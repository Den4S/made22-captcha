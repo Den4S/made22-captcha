{
  "cells": [
    {
      "cell_type": "markdown",
      "id": "f22e0d57",
      "metadata": {
        "id": "f22e0d57"
      },
      "source": [
        "### Necessary imports"
      ]
    },
    {
      "cell_type": "code",
      "execution_count": 1,
      "id": "cb33d7e2",
      "metadata": {
        "id": "cb33d7e2"
      },
      "outputs": [],
      "source": [
        "import os\n",
        "import random"
      ]
    },
    {
      "cell_type": "code",
      "execution_count": 2,
      "id": "00c70665",
      "metadata": {
        "id": "00c70665"
      },
      "outputs": [],
      "source": [
        "from pathlib import Path\n",
        "\n",
        "import pandas as pd\n",
        "from tqdm import tqdm\n",
        "from PIL import Image"
      ]
    },
    {
      "cell_type": "code",
      "execution_count": 3,
      "id": "bda20d57",
      "metadata": {
        "id": "bda20d57"
      },
      "outputs": [],
      "source": [
        "import torch, torch.nn as nn\n",
        "import torch.nn.functional as F"
      ]
    },
    {
      "cell_type": "code",
      "source": [
        "from torch.autograd import Variable\n",
        "from torch.utils.data import DataLoader, Dataset, random_split\n",
        "from torchvision import transforms\n",
        "from torchsummary import summary"
      ],
      "metadata": {
        "id": "gex5uEOUmWPb"
      },
      "id": "gex5uEOUmWPb",
      "execution_count": 4,
      "outputs": []
    },
    {
      "cell_type": "code",
      "execution_count": 5,
      "id": "ab631efb",
      "metadata": {
        "id": "ab631efb"
      },
      "outputs": [],
      "source": [
        "import matplotlib.pyplot as plt\n",
        "%matplotlib inline\n",
        "%config InlineBackend.figure_format = 'retina'"
      ]
    },
    {
      "cell_type": "code",
      "execution_count": 6,
      "id": "8eb12324",
      "metadata": {
        "colab": {
          "base_uri": "https://localhost:8080/"
        },
        "id": "8eb12324",
        "outputId": "719f2816-cbe1-43a0-e2ee-5c1fada20511"
      },
      "outputs": [
        {
          "output_type": "stream",
          "name": "stdout",
          "text": [
            "Drive already mounted at /content/drive; to attempt to forcibly remount, call drive.mount(\"/content/drive\", force_remount=True).\n"
          ]
        }
      ],
      "source": [
        "# For Google Collab\n",
        "from google.colab import drive\n",
        "drive.mount('/content/drive')"
      ]
    },
    {
      "cell_type": "code",
      "execution_count": 7,
      "id": "169eda06",
      "metadata": {
        "colab": {
          "base_uri": "https://localhost:8080/"
        },
        "id": "169eda06",
        "outputId": "ab808662-ea05-4db8-8142-03e760384eb0"
      },
      "outputs": [
        {
          "output_type": "stream",
          "name": "stdout",
          "text": [
            "mkdir: cannot create directory ‘samples’: File exists\n",
            "replace captcha/p5g5m.png? [y]es, [n]o, [A]ll, [N]one, [r]ename: A\n"
          ]
        }
      ],
      "source": [
        "# For Google Collab\n",
        "!mkdir samples\n",
        "# unzip archive \"captcha.zip\" with data (lying in root folder)\n",
        "!unzip -q drive/MyDrive/captcha.zip -d captcha/"
      ]
    },
    {
      "cell_type": "code",
      "source": [
        "# For Google Collab\n",
        "data_path = Path('./captcha')"
      ],
      "metadata": {
        "id": "K6xidyhbwQay"
      },
      "id": "K6xidyhbwQay",
      "execution_count": 8,
      "outputs": []
    },
    {
      "cell_type": "code",
      "source": [
        "# Not for Google Collab\n",
        "# data_path = Path('../data/captcha')"
      ],
      "metadata": {
        "id": "wjiaPikCwUCr"
      },
      "id": "wjiaPikCwUCr",
      "execution_count": 9,
      "outputs": []
    },
    {
      "cell_type": "markdown",
      "id": "248bae46",
      "metadata": {
        "id": "248bae46"
      },
      "source": [
        "## Data preparation"
      ]
    },
    {
      "cell_type": "code",
      "execution_count": 10,
      "id": "f023eb41",
      "metadata": {
        "colab": {
          "base_uri": "https://localhost:8080/"
        },
        "id": "f023eb41",
        "outputId": "278e638e-932a-4d12-8d6c-8bfdb9d2f511"
      },
      "outputs": [
        {
          "output_type": "stream",
          "name": "stdout",
          "text": [
            "Number of samples: 1070\n"
          ]
        }
      ],
      "source": [
        "pics_names = os.listdir(data_path)  # list of imeges filenames: ['p5g5m.png', ...]\n",
        "pics_pathes = [data_path / pic for pic in pics_names]\n",
        "print(f\"Number of samples: {len(pics_names)}\")"
      ]
    },
    {
      "cell_type": "code",
      "execution_count": 11,
      "id": "0b133e7b",
      "metadata": {
        "colab": {
          "base_uri": "https://localhost:8080/",
          "height": 121
        },
        "id": "0b133e7b",
        "outputId": "c85577e8-14b3-4bac-d221-bcfcd9c3ce16"
      },
      "outputs": [
        {
          "output_type": "stream",
          "name": "stdout",
          "text": [
            "Captcha: 6mege\n",
            "Image:\n"
          ]
        },
        {
          "output_type": "display_data",
          "data": {
            "text/plain": [
              "<PIL.PngImagePlugin.PngImageFile image mode=RGBA size=200x50 at 0x7F6516DE93A0>"
            ],
            "image/png": "[encoded data removed]"
          },
          "metadata": {}
        },
        {
          "output_type": "stream",
          "name": "stdout",
          "text": [
            "Size: (200, 50)\n"
          ]
        }
      ],
      "source": [
        "# show random image from dataset\n",
        "rnd_filename = random.choice(pics_names)\n",
        "rnd_im = Image.open(data_path / rnd_filename)\n",
        "\n",
        "print(f\"Captcha: {rnd_filename.split('.')[0]}\")\n",
        "print(\"Image:\")\n",
        "display(rnd_im)\n",
        "print(f\"Size: {rnd_im.size}\")"
      ]
    },
    {
      "cell_type": "code",
      "execution_count": 12,
      "id": "9dc12933",
      "metadata": {
        "colab": {
          "base_uri": "https://localhost:8080/",
          "height": 206
        },
        "id": "9dc12933",
        "outputId": "d3ac812a-8d3c-4d2e-bde6-cd526f50fd8f"
      },
      "outputs": [
        {
          "output_type": "execute_result",
          "data": {
            "text/plain": [
              "                file   pic_size pic_mode  label\n",
              "0  captcha/e2mg2.png  (200, 50)     RGBA  e2mg2\n",
              "1  captcha/xwx7d.png  (200, 50)     RGBA  xwx7d\n",
              "2  captcha/3ndxd.png  (200, 50)     RGBA  3ndxd\n",
              "3  captcha/gn2d3.png  (200, 50)     RGBA  gn2d3\n",
              "4  captcha/6end3.png  (200, 50)     RGBA  6end3"
            ],
            "text/html": [
              "\n",
              "  <div id=\"df-26d3afc8-b4b7-4168-b02c-d9796a54566a\">\n",
              "    <div class=\"colab-df-container\">\n",
              "      <div>\n",
              "<style scoped>\n",
              "    .dataframe tbody tr th:only-of-type {\n",
              "        vertical-align: middle;\n",
              "    }\n",
              "\n",
              "    .dataframe tbody tr th {\n",
              "        vertical-align: top;\n",
              "    }\n",
              "\n",
              "    .dataframe thead th {\n",
              "        text-align: right;\n",
              "    }\n",
              "</style>\n",
              "<table border=\"1\" class=\"dataframe\">\n",
              "  <thead>\n",
              "    <tr style=\"text-align: right;\">\n",
              "      <th></th>\n",
              "      <th>file</th>\n",
              "      <th>pic_size</th>\n",
              "      <th>pic_mode</th>\n",
              "      <th>label</th>\n",
              "    </tr>\n",
              "  </thead>\n",
              "  <tbody>\n",
              "    <tr>\n",
              "      <th>0</th>\n",
              "      <td>captcha/e2mg2.png</td>\n",
              "      <td>(200, 50)</td>\n",
              "      <td>RGBA</td>\n",
              "      <td>e2mg2</td>\n",
              "    </tr>\n",
              "    <tr>\n",
              "      <th>1</th>\n",
              "      <td>captcha/xwx7d.png</td>\n",
              "      <td>(200, 50)</td>\n",
              "      <td>RGBA</td>\n",
              "      <td>xwx7d</td>\n",
              "    </tr>\n",
              "    <tr>\n",
              "      <th>2</th>\n",
              "      <td>captcha/3ndxd.png</td>\n",
              "      <td>(200, 50)</td>\n",
              "      <td>RGBA</td>\n",
              "      <td>3ndxd</td>\n",
              "    </tr>\n",
              "    <tr>\n",
              "      <th>3</th>\n",
              "      <td>captcha/gn2d3.png</td>\n",
              "      <td>(200, 50)</td>\n",
              "      <td>RGBA</td>\n",
              "      <td>gn2d3</td>\n",
              "    </tr>\n",
              "    <tr>\n",
              "      <th>4</th>\n",
              "      <td>captcha/6end3.png</td>\n",
              "      <td>(200, 50)</td>\n",
              "      <td>RGBA</td>\n",
              "      <td>6end3</td>\n",
              "    </tr>\n",
              "  </tbody>\n",
              "</table>\n",
              "</div>\n",
              "      <button class=\"colab-df-convert\" onclick=\"convertToInteractive('df-26d3afc8-b4b7-4168-b02c-d9796a54566a')\"\n",
              "              title=\"Convert this dataframe to an interactive table.\"\n",
              "              style=\"display:none;\">\n",
              "        \n",
              "  <svg xmlns=\"http://www.w3.org/2000/svg\" height=\"24px\"viewBox=\"0 0 24 24\"\n",
              "       width=\"24px\">\n",
              "    <path d=\"M0 0h24v24H0V0z\" fill=\"none\"/>\n",
              "    <path d=\"M18.56 5.44l.94 2.06.94-2.06 2.06-.94-2.06-.94-.94-2.06-.94 2.06-2.06.94zm-11 1L8.5 8.5l.94-2.06 2.06-.94-2.06-.94L8.5 2.5l-.94 2.06-2.06.94zm10 10l.94 2.06.94-2.06 2.06-.94-2.06-.94-.94-2.06-.94 2.06-2.06.94z\"/><path d=\"M17.41 7.96l-1.37-1.37c-.4-.4-.92-.59-1.43-.59-.52 0-1.04.2-1.43.59L10.3 9.45l-7.72 7.72c-.78.78-.78 2.05 0 2.83L4 21.41c.39.39.9.59 1.41.59.51 0 1.02-.2 1.41-.59l7.78-7.78 2.81-2.81c.8-.78.8-2.07 0-2.86zM5.41 20L4 18.59l7.72-7.72 1.47 1.35L5.41 20z\"/>\n",
              "  </svg>\n",
              "      </button>\n",
              "      \n",
              "  <style>\n",
              "    .colab-df-container {\n",
              "      display:flex;\n",
              "      flex-wrap:wrap;\n",
              "      gap: 12px;\n",
              "    }\n",
              "\n",
              "    .colab-df-convert {\n",
              "      background-color: #E8F0FE;\n",
              "      border: none;\n",
              "      border-radius: 50%;\n",
              "      cursor: pointer;\n",
              "      display: none;\n",
              "      fill: #1967D2;\n",
              "      height: 32px;\n",
              "      padding: 0 0 0 0;\n",
              "      width: 32px;\n",
              "    }\n",
              "\n",
              "    .colab-df-convert:hover {\n",
              "      background-color: #E2EBFA;\n",
              "      box-shadow: 0px 1px 2px rgba(60, 64, 67, 0.3), 0px 1px 3px 1px rgba(60, 64, 67, 0.15);\n",
              "      fill: #174EA6;\n",
              "    }\n",
              "\n",
              "    [theme=dark] .colab-df-convert {\n",
              "      background-color: #3B4455;\n",
              "      fill: #D2E3FC;\n",
              "    }\n",
              "\n",
              "    [theme=dark] .colab-df-convert:hover {\n",
              "      background-color: #434B5C;\n",
              "      box-shadow: 0px 1px 3px 1px rgba(0, 0, 0, 0.15);\n",
              "      filter: drop-shadow(0px 1px 2px rgba(0, 0, 0, 0.3));\n",
              "      fill: #FFFFFF;\n",
              "    }\n",
              "  </style>\n",
              "\n",
              "      <script>\n",
              "        const buttonEl =\n",
              "          document.querySelector('#df-26d3afc8-b4b7-4168-b02c-d9796a54566a button.colab-df-convert');\n",
              "        buttonEl.style.display =\n",
              "          google.colab.kernel.accessAllowed ? 'block' : 'none';\n",
              "\n",
              "        async function convertToInteractive(key) {\n",
              "          const element = document.querySelector('#df-26d3afc8-b4b7-4168-b02c-d9796a54566a');\n",
              "          const dataTable =\n",
              "            await google.colab.kernel.invokeFunction('convertToInteractive',\n",
              "                                                     [key], {});\n",
              "          if (!dataTable) return;\n",
              "\n",
              "          const docLinkHtml = 'Like what you see? Visit the ' +\n",
              "            '<a target=\"_blank\" href=https://colab.research.google.com/notebooks/data_table.ipynb>data table notebook</a>'\n",
              "            + ' to learn more about interactive tables.';\n",
              "          element.innerHTML = '';\n",
              "          dataTable['output_type'] = 'display_data';\n",
              "          await google.colab.output.renderOutput(dataTable, element);\n",
              "          const docLink = document.createElement('div');\n",
              "          docLink.innerHTML = docLinkHtml;\n",
              "          element.appendChild(docLink);\n",
              "        }\n",
              "      </script>\n",
              "    </div>\n",
              "  </div>\n",
              "  "
            ]
          },
          "metadata": {},
          "execution_count": 12
        }
      ],
      "source": [
        "# compose dataframe\n",
        "data_df = pd.DataFrame(\n",
        "    {\n",
        "        'file': pics_pathes, \n",
        "        'pic_size': [Image.open(pic).size for pic in pics_pathes],\n",
        "        'pic_mode': [Image.open(pic).mode for pic in pics_pathes],\n",
        "        'label': [name.split(\".\")[0] for name in pics_names], \n",
        "    }\n",
        ")\n",
        "data_df.head()"
      ]
    },
    {
      "cell_type": "markdown",
      "id": "1c4ed358",
      "metadata": {
        "id": "1c4ed358"
      },
      "source": [
        "### Statistics"
      ]
    },
    {
      "cell_type": "code",
      "execution_count": 13,
      "id": "fab255f0",
      "metadata": {
        "colab": {
          "base_uri": "https://localhost:8080/"
        },
        "id": "fab255f0",
        "outputId": "7e258a29-7e91-48ae-ea60-f5c956c56033"
      },
      "outputs": [
        {
          "output_type": "execute_result",
          "data": {
            "text/plain": [
              "(200, 50)    1070\n",
              "Name: pic_size, dtype: int64"
            ]
          },
          "metadata": {},
          "execution_count": 13
        }
      ],
      "source": [
        "data_df[\"pic_size\"].value_counts()"
      ]
    },
    {
      "cell_type": "code",
      "execution_count": 14,
      "id": "dee8f231",
      "metadata": {
        "colab": {
          "base_uri": "https://localhost:8080/"
        },
        "id": "dee8f231",
        "outputId": "7c4345ff-ef88-4621-dfe3-0a43937f00c4"
      },
      "outputs": [
        {
          "output_type": "execute_result",
          "data": {
            "text/plain": [
              "RGBA    1040\n",
              "RGB       30\n",
              "Name: pic_mode, dtype: int64"
            ]
          },
          "metadata": {},
          "execution_count": 14
        }
      ],
      "source": [
        "data_df[\"pic_mode\"].value_counts()"
      ]
    },
    {
      "cell_type": "code",
      "execution_count": 15,
      "id": "bede02f7",
      "metadata": {
        "colab": {
          "base_uri": "https://localhost:8080/"
        },
        "id": "bede02f7",
        "outputId": "474deead-a34e-4b21-b3ad-8b42060ae993"
      },
      "outputs": [
        {
          "output_type": "execute_result",
          "data": {
            "text/plain": [
              "{5}"
            ]
          },
          "metadata": {},
          "execution_count": 15
        }
      ],
      "source": [
        "set(len(cap) for cap in data_df[\"label\"])  # captchas lengths"
      ]
    },
    {
      "cell_type": "markdown",
      "id": "cc3f6427",
      "metadata": {
        "id": "cc3f6427"
      },
      "source": [
        "- All pictures are of the same size: $(200,50)$\n",
        "- All captchas are of the same length: $5$"
      ]
    },
    {
      "cell_type": "code",
      "execution_count": 16,
      "id": "5715b3c7",
      "metadata": {
        "id": "5715b3c7"
      },
      "outputs": [],
      "source": [
        "CAPTCHA_WIDTH, CAPTCHA_HEIGHT = (200, 50)"
      ]
    },
    {
      "cell_type": "markdown",
      "id": "6c550560",
      "metadata": {
        "id": "6c550560"
      },
      "source": [
        "### Tokenization"
      ]
    },
    {
      "cell_type": "code",
      "execution_count": 17,
      "id": "8f851630",
      "metadata": {
        "colab": {
          "base_uri": "https://localhost:8080/"
        },
        "id": "8f851630",
        "outputId": "70ed9395-5177-4d17-f8f2-bcc82dcc5145"
      },
      "outputs": [
        {
          "output_type": "stream",
          "name": "stdout",
          "text": [
            "There are 19 characters used in dataset\n",
            "All tokens: ['2', '3', '4', '5', '6', '7', '8', 'b', 'c', 'd', 'e', 'f', 'g', 'm', 'n', 'p', 'w', 'x', 'y']\n"
          ]
        }
      ],
      "source": [
        "tokens_set = sorted(set(\"\".join(data_df[\"label\"])))  # all symbols used in captchas from dataset\n",
        "N_TOKENS = len(tokens_set)\n",
        "\n",
        "print(f\"There are {N_TOKENS} characters used in dataset\")\n",
        "print(f\"All tokens: {tokens_set}\")"
      ]
    },
    {
      "cell_type": "code",
      "execution_count": 18,
      "id": "777cc904",
      "metadata": {
        "id": "777cc904"
      },
      "outputs": [],
      "source": [
        "# tokens dictionaries\n",
        "token_to_idx = {token: ind for ind, token in enumerate(tokens_set)}\n",
        "# add an \"blank\" token\n",
        "BLANK_TOKEN = \".\"\n",
        "BLANK_IND = len(token_to_idx)\n",
        "token_to_idx[BLANK_TOKEN] = BLANK_IND\n",
        "\n",
        "idx_to_token = {ind: token for token, ind in token_to_idx.items()}"
      ]
    },
    {
      "cell_type": "code",
      "execution_count": 19,
      "id": "01db0ed1",
      "metadata": {
        "scrolled": false,
        "colab": {
          "base_uri": "https://localhost:8080/"
        },
        "id": "01db0ed1",
        "outputId": "3e85a7f5-3d54-4bc1-d439-81ad13d35792"
      },
      "outputs": [
        {
          "output_type": "stream",
          "name": "stdout",
          "text": [
            "Index\t\tToken\n",
            "0\t-\t2\n",
            "1\t-\t3\n",
            "2\t-\t4\n",
            "3\t-\t5\n",
            "4\t-\t6\n",
            "5\t-\t7\n",
            "6\t-\t8\n",
            "7\t-\tb\n",
            "8\t-\tc\n",
            "9\t-\td\n",
            "10\t-\te\n",
            "11\t-\tf\n",
            "12\t-\tg\n",
            "13\t-\tm\n",
            "14\t-\tn\n",
            "15\t-\tp\n",
            "16\t-\tw\n",
            "17\t-\tx\n",
            "18\t-\ty\n",
            "19\t-\t.\n"
          ]
        }
      ],
      "source": [
        "for token, ind in token_to_idx.items():\n",
        "    assert idx_to_token[ind] == token\n",
        "\n",
        "print(\"Index\\t\\tToken\")\n",
        "for item in idx_to_token.items():\n",
        "    print(f\"{item[0]}\\t-\\t{item[1]}\")"
      ]
    },
    {
      "cell_type": "code",
      "source": [
        "N_TOKENS = len(token_to_idx)"
      ],
      "metadata": {
        "id": "k4K5-5Fkt_16"
      },
      "id": "k4K5-5Fkt_16",
      "execution_count": 20,
      "outputs": []
    },
    {
      "cell_type": "markdown",
      "id": "b1918d23",
      "metadata": {
        "id": "b1918d23"
      },
      "source": [
        "## Compose dataset"
      ]
    },
    {
      "cell_type": "code",
      "execution_count": 22,
      "id": "71334e7f",
      "metadata": {
        "id": "71334e7f"
      },
      "outputs": [],
      "source": [
        "class CaptchaDS(Dataset):\n",
        "    def __init__(self, data_df, transform, target_transform=None):\n",
        "        self.files = data_df.file\n",
        "        self.labels = data_df.label\n",
        "        self.transform = transform\n",
        "        self.target_transform = target_transform\n",
        "    \n",
        "    def __len__(self):\n",
        "        return len(self.files)\n",
        "    \n",
        "    def __getitem__(self, ind):\n",
        "        # some images have RGBA mode\n",
        "        image = Image.open(self.files[ind]).convert('L')  # .convert('RGB')\n",
        "        label = self.labels[ind] \n",
        "        if self.target_transform:  # transform label\n",
        "            label = self.target_transform(label)\n",
        "        return self.transform(image), label"
      ]
    },
    {
      "cell_type": "code",
      "execution_count": 23,
      "id": "9d3334af",
      "metadata": {
        "id": "9d3334af"
      },
      "outputs": [],
      "source": [
        "def label_transformer(captcha):\n",
        "    # Output: list (tensor) of token's indices: list[int*len(captcha)]\n",
        "    return torch.tensor([token_to_idx[token] for token in captcha],\n",
        "                        dtype=torch.long)"
      ]
    },
    {
      "cell_type": "code",
      "execution_count": 24,
      "id": "3e3840be",
      "metadata": {
        "id": "3e3840be"
      },
      "outputs": [],
      "source": [
        "def label_detransformer(captcha):\n",
        "    # Input: list (tensor) of token's indices: list[int*len(captcha)]\n",
        "    # Output: string\n",
        "    return \"\".join([idx_to_token[int(ind)] for ind in captcha])"
      ]
    },
    {
      "cell_type": "code",
      "execution_count": 25,
      "id": "5237c088",
      "metadata": {
        "colab": {
          "base_uri": "https://localhost:8080/"
        },
        "id": "5237c088",
        "outputId": "c26af260-1643-4d3c-924a-bddc8daf21b8"
      },
      "outputs": [
        {
          "output_type": "execute_result",
          "data": {
            "text/plain": [
              "tensor([ 4,  6, 16, 11,  9])"
            ]
          },
          "metadata": {},
          "execution_count": 25
        }
      ],
      "source": [
        "label_transformer(\"68wfd\")  # example of lable_transformer work"
      ]
    },
    {
      "cell_type": "code",
      "execution_count": 26,
      "id": "a7b73d9e",
      "metadata": {
        "colab": {
          "base_uri": "https://localhost:8080/",
          "height": 35
        },
        "id": "a7b73d9e",
        "outputId": "ccf40e21-133c-48ad-9a71-60181f4ddb29"
      },
      "outputs": [
        {
          "output_type": "execute_result",
          "data": {
            "text/plain": [
              "'68wfd'"
            ],
            "application/vnd.google.colaboratory.intrinsic+json": {
              "type": "string"
            }
          },
          "metadata": {},
          "execution_count": 26
        }
      ],
      "source": [
        "label_detransformer(label_transformer(\"68wfd\"))"
      ]
    },
    {
      "cell_type": "code",
      "source": [
        "# CAPTCHA_WIDTH, CAPTCHA_HEIGHT = (300, 75)  # trying to resize images\n",
        "\n",
        "# captcha_dataset = CaptchaDS(\n",
        "#     data_df, \n",
        "#     transform=transforms.Compose([transforms.Resize((CAPTCHA_HEIGHT,\n",
        "#                                                      CAPTCHA_WIDTH)),\n",
        "#                                   transforms.ToTensor()]),\n",
        "#     target_transform=label_transformer\n",
        "# )  # resize pipeline"
      ],
      "metadata": {
        "id": "rEadkUvpI3rH"
      },
      "id": "rEadkUvpI3rH",
      "execution_count": 27,
      "outputs": []
    },
    {
      "cell_type": "code",
      "execution_count": 28,
      "id": "66beef90",
      "metadata": {
        "id": "66beef90"
      },
      "outputs": [],
      "source": [
        "# Dataset\n",
        "captcha_dataset = CaptchaDS(\n",
        "    data_df, \n",
        "    transform=transforms.ToTensor(),\n",
        "    target_transform=label_transformer  # tokens to indices\n",
        ")  # simple pipeline"
      ]
    },
    {
      "cell_type": "markdown",
      "id": "ef32e674",
      "metadata": {
        "id": "ef32e674"
      },
      "source": [
        "Divide into `training` and `test` samples in a ratio of $4:1$"
      ]
    },
    {
      "cell_type": "code",
      "source": [
        "BATCH_SIZE = 32"
      ],
      "metadata": {
        "id": "qjEvNUh6rIEq"
      },
      "id": "qjEvNUh6rIEq",
      "execution_count": 29,
      "outputs": []
    },
    {
      "cell_type": "code",
      "execution_count": 30,
      "id": "971c091d",
      "metadata": {
        "colab": {
          "base_uri": "https://localhost:8080/"
        },
        "id": "971c091d",
        "outputId": "c5a1cf3b-6911-4e6a-bd15-119e54c25411"
      },
      "outputs": [
        {
          "output_type": "stream",
          "name": "stdout",
          "text": [
            "Train size: 856\n",
            "Test size: 214\n",
            "Train loader: 26\n",
            "Test loader: 7\n"
          ]
        }
      ],
      "source": [
        "train_size = int(4 / 5 * len(captcha_dataset))\n",
        "test_size = len(captcha_dataset) - train_size\n",
        "\n",
        "# train/test split\n",
        "train_dataset, test_dataset = random_split(captcha_dataset,\n",
        "                                           [train_size, test_size]\n",
        "                                           )\n",
        "print(f\"Train size: {len(train_dataset)}\\nTest size: {len(test_dataset)}\")\n",
        "\n",
        "train_loader = DataLoader(train_dataset, \n",
        "                          batch_size=BATCH_SIZE,\n",
        "                          shuffle=True,\n",
        "                          drop_last=True\n",
        "                          )\n",
        "test_loader = DataLoader(test_dataset,\n",
        "                         batch_size=BATCH_SIZE,\n",
        "                         shuffle=False\n",
        "                         )\n",
        "\n",
        "print(f\"Train loader: {len(train_loader)}\\nTest loader: {len(test_loader)}\")"
      ]
    },
    {
      "cell_type": "code",
      "source": [
        "# batch shape\n",
        "next(iter(train_loader))[0].shape"
      ],
      "metadata": {
        "colab": {
          "base_uri": "https://localhost:8080/"
        },
        "id": "aRjb4c8mr5kY",
        "outputId": "806ddc54-1fdb-4861-d7ed-c201480dbead"
      },
      "id": "aRjb4c8mr5kY",
      "execution_count": 31,
      "outputs": [
        {
          "output_type": "execute_result",
          "data": {
            "text/plain": [
              "torch.Size([32, 1, 50, 200])"
            ]
          },
          "metadata": {},
          "execution_count": 31
        }
      ]
    },
    {
      "cell_type": "markdown",
      "id": "b60e70c9",
      "metadata": {
        "id": "b60e70c9"
      },
      "source": [
        "## Model building\n",
        "\n",
        "**Convolutional Recurrent Neural Network (CRNN)**\n",
        "\n",
        "`LeNet-5` based convolution model:\n",
        "\n",
        "- 5x5 filters are replaced with 2 consecutive 3x3 filters\n",
        "\n",
        "- `max-pooling` is replaced with strided convolutions\n",
        "\n",
        "The resulted higher level features are fed into a 2 layer `GRU RNN` with a linear layer in the end which has **20** possible outputs (captcha characters 19 + blank character 1). `GRU` is chosen over `LSTM` since it had similar results but required fewer resources."
      ]
    },
    {
      "cell_type": "code",
      "source": [
        "# device selection\n",
        "device = torch.device('cuda' if torch.cuda.is_available() else 'cpu')\n",
        "print(f\"device: {device}\")"
      ],
      "metadata": {
        "colab": {
          "base_uri": "https://localhost:8080/"
        },
        "id": "C77bTcHAsEYU",
        "outputId": "3a7a2070-661c-4543-b8f8-1bba54da935e"
      },
      "id": "C77bTcHAsEYU",
      "execution_count": 32,
      "outputs": [
        {
          "output_type": "stream",
          "name": "stdout",
          "text": [
            "device: cuda\n"
          ]
        }
      ]
    },
    {
      "cell_type": "code",
      "execution_count": 33,
      "id": "87417a95",
      "metadata": {
        "id": "87417a95"
      },
      "outputs": [],
      "source": [
        "class CRNN(nn.Module):\n",
        "    def __init__(self, num_classes):\n",
        "        super().__init__()\n",
        "        self.num_classes = num_classes\n",
        "\n",
        "        self.conv1 = nn.Conv2d(1, 32, kernel_size=(3,3))\n",
        "        #self.in1 = nn.InstanceNorm2d(32, affine=True)\n",
        "        #self.in1 = nn.BatchNorm2d(32)\n",
        "        self.conv2 = nn.Conv2d(32, 32, kernel_size=(3,3))\n",
        "        #self.in2 = nn.InstanceNorm2d(32, affine=True)\n",
        "        #self.in2 = nn.BatchNorm2d(32)\n",
        "        self.conv3 = nn.Conv2d(32, 32, kernel_size=(3,3), stride=2)\n",
        "        #self.in3 = nn.InstanceNorm2d(32, affine=True)\n",
        "        #self.in3 = nn.BatchNorm2d(32)\n",
        "        self.conv4 = nn.Conv2d(32, 64, kernel_size=(3,3))\n",
        "        #self.in4 = nn.InstanceNorm2d(64, affine=True)\n",
        "        #self.in4 = nn.BatchNorm2d(64)\n",
        "        self.conv5 = nn.Conv2d(64, 64, kernel_size=(3,3))\n",
        "        #self.in5 = nn.InstanceNorm2d(64, affine=True)\n",
        "        #self.in5 = nn.BatchNorm2d(64)\n",
        "        self.conv6 = nn.Conv2d(64, 64, kernel_size=(3,3), stride=2)\n",
        "        #self.in6 = nn.InstanceNorm2d(64, affine=True)\n",
        "        #self.in6 = nn.BatchNorm2d(64)\n",
        "\n",
        "        self.postconv_height = 8\n",
        "        self.postconv_width = 46\n",
        "        self.gru_input_size = self.postconv_height * 64\n",
        "        self.gru_hidden_size = 128 \n",
        "        self.gru_num_layers = 2\n",
        "        self.gru_h = None\n",
        "\n",
        "        self.gru = nn.GRU(\n",
        "            self.gru_input_size, self.gru_hidden_size, \n",
        "            self.gru_num_layers, batch_first=True, bidirectional=True\n",
        "        )\n",
        "\n",
        "        self.fc = nn.Linear(self.gru_hidden_size * 2, self.num_classes)\n",
        "\n",
        "    def forward(self, x):\n",
        "        batch_size = x.shape[0]\n",
        "        #print(\" == conv1 input:\", x.shape)  # torch.Size([bs, 1, 50, 200])\n",
        "        out = self.conv1(x)\n",
        "        out = F.leaky_relu(out)\n",
        "        ##out = self.in1(out)\n",
        "        #print(\" == conv2 input:\", out.shape)  # torch.Size([bs, 32, 48, 198])\n",
        "        out = self.conv2(out) \n",
        "        out = F.leaky_relu(out)\n",
        "        ##out = self.in2(out)\n",
        "        #print(\" == conv3 input:\", out.shape)  # torch.Size([bs, 32, 46, 196])\n",
        "        out = self.conv3(out)\n",
        "        out = F.leaky_relu(out)\n",
        "        ##out = self.in3(out)\n",
        "        #print(\" == conv4 input:\", out.shape)  # torch.Size([bs, 32, 22, 97])\n",
        "        out = self.conv4(out)\n",
        "        out = F.leaky_relu(out)\n",
        "        ##out = self.in4(out)\n",
        "        #print(\" == conv5 input:\", out.shape)  # torch.Size([bs, 64, 20, 95])\n",
        "        out = self.conv5(out)\n",
        "        out = F.leaky_relu(out)\n",
        "        ##out = self.in5(out)\n",
        "        #print(\" == conv6 input:\", out.shape)  # torch.Size([bs, 64, 18, 93])\n",
        "        out = self.conv6(out)\n",
        "        out = F.leaky_relu(out)\n",
        "        ##out = self.in6(out)\n",
        "        #print(\" == conv6 output:\", out.shape)  # torch.Size([bs, 64, 8, 46]) <- postconv height/width\n",
        "\n",
        "        out = out.permute(0, 3, 2, 1) \n",
        "        #print(\"  -- permute:\", out.shape)  # torch.Size([bs, 46, 8, 64])\n",
        "        out = out.reshape(batch_size, -1, self.gru_input_size)\n",
        "        #print(\"  -- reshape (gru input):\", out.shape)  # torch.Size([bs, 46, 512])\n",
        "\n",
        "        out, gru_h = self.gru(out, self.gru_h)\n",
        "        #print(\" == gru output:\", out.shape, gru_h.shape)  # torch.Size([bs, 46, 256]) torch.Size([4, bs, 128])\n",
        "        self.gru_h = gru_h.detach()\n",
        "        \n",
        "        # out[i].shape = torch.Size([46, 256]), fc(out[i]).shape = torch.Size([46, 20]) <- [46x256]*[256x20]=[46x20]\n",
        "        out = torch.stack([F.log_softmax(self.fc(out[i]), dim=-1) for i in range(out.shape[0])])\n",
        "        #print(\" == stack output:\", out.shape)  # torch.Size([bs, 46, 20])\n",
        "        \n",
        "        return out\n",
        "\n",
        "    def reset_hidden(self, batch_size):\n",
        "        self.gru_h = torch.zeros(self.gru_num_layers * 2, batch_size, self.gru_hidden_size).to(device)"
      ]
    },
    {
      "cell_type": "code",
      "source": [
        "!pip install torchinfo"
      ],
      "metadata": {
        "colab": {
          "base_uri": "https://localhost:8080/"
        },
        "id": "XKsj2qvxtukH",
        "outputId": "ba717c4d-9655-485c-f21c-d0cbb387e901"
      },
      "id": "XKsj2qvxtukH",
      "execution_count": 34,
      "outputs": [
        {
          "output_type": "stream",
          "name": "stdout",
          "text": [
            "Looking in indexes: https://pypi.org/simple, https://us-python.pkg.dev/colab-wheels/public/simple/\n",
            "Requirement already satisfied: torchinfo in /usr/local/lib/python3.8/dist-packages (1.7.2)\n"
          ]
        }
      ]
    },
    {
      "cell_type": "code",
      "source": [
        "import torchinfo"
      ],
      "metadata": {
        "id": "7Z_r3d1TttcQ"
      },
      "id": "7Z_r3d1TttcQ",
      "execution_count": 35,
      "outputs": []
    },
    {
      "cell_type": "code",
      "source": [
        "model = CRNN(num_classes=N_TOKENS)\n",
        "torchinfo.summary(model, (1, 1, CAPTCHA_HEIGHT, CAPTCHA_WIDTH), device=\"cpu\")"
      ],
      "metadata": {
        "colab": {
          "base_uri": "https://localhost:8080/"
        },
        "id": "FvPDBRFxt0wi",
        "outputId": "ac7e0887-37bb-43b5-a230-6688e789cac3"
      },
      "id": "FvPDBRFxt0wi",
      "execution_count": 36,
      "outputs": [
        {
          "output_type": "execute_result",
          "data": {
            "text/plain": [
              "==========================================================================================\n",
              "Layer (type:depth-idx)                   Output Shape              Param #\n",
              "==========================================================================================\n",
              "CRNN                                     [1, 46, 20]               --\n",
              "├─Conv2d: 1-1                            [1, 32, 48, 198]          320\n",
              "├─Conv2d: 1-2                            [1, 32, 46, 196]          9,248\n",
              "├─Conv2d: 1-3                            [1, 32, 22, 97]           9,248\n",
              "├─Conv2d: 1-4                            [1, 64, 20, 95]           18,496\n",
              "├─Conv2d: 1-5                            [1, 64, 18, 93]           36,928\n",
              "├─Conv2d: 1-6                            [1, 64, 8, 46]            36,928\n",
              "├─GRU: 1-7                               [1, 46, 256]              789,504\n",
              "├─Linear: 1-8                            [46, 20]                  5,140\n",
              "==========================================================================================\n",
              "Total params: 905,812\n",
              "Trainable params: 905,812\n",
              "Non-trainable params: 0\n",
              "Total mult-adds (M): 253.26\n",
              "==========================================================================================\n",
              "Input size (MB): 0.04\n",
              "Forward/backward pass size (MB): 7.41\n",
              "Params size (MB): 3.62\n",
              "Estimated Total Size (MB): 11.07\n",
              "=========================================================================================="
            ]
          },
          "metadata": {},
          "execution_count": 36
        }
      ]
    },
    {
      "cell_type": "markdown",
      "source": [
        "A `log_softmax` activation function is used in the final layer since it the loss function (PyTorch's `CTCLoss`) requires a logarithmized version of the output; also, this should provide better numerical properties as it highly penalizes incorrect classifications."
      ],
      "metadata": {
        "id": "mzuoI1YitEOq"
      },
      "id": "mzuoI1YitEOq"
    },
    {
      "cell_type": "code",
      "source": [
        "# weights initialization\n",
        "def weights_init(m):\n",
        "    classname = m.__class__.__name__\n",
        "    if type(m) in [nn.Linear, nn.Conv2d, nn.Conv1d]:\n",
        "        torch.nn.init.xavier_uniform_(m.weight)\n",
        "        if m.bias is not None:\n",
        "            m.bias.data.fill_(0.01)\n",
        "    elif classname.find(\"Norm\") != -1:\n",
        "        m.weight.data.normal_(1.0, 0.02) # InstanceNorm2d -> affine=True\n",
        "        m.bias.data.fill_(0)"
      ],
      "metadata": {
        "id": "BnPCnG_DtYXY"
      },
      "id": "BnPCnG_DtYXY",
      "execution_count": 37,
      "outputs": []
    },
    {
      "cell_type": "markdown",
      "id": "ccc2f2f2",
      "metadata": {
        "id": "ccc2f2f2"
      },
      "source": [
        "## Training and evaluating loops"
      ]
    },
    {
      "cell_type": "markdown",
      "source": [
        "CRNN is trained with Connectionist Temporal Classification (CTC) loss.\n",
        "\n",
        "Calculates loss between a continuous (unsegmented) time series and a target sequence. `CTCLoss` sums over the probability of possible alignments of input to target, producing a loss value which is differentiable with respect to each input node. The alignment of input to target is assumed to be \"many-to-one\", which limits the length of the target sequence such that it must be $\\leq$ the input length.\n",
        "\n",
        "[`torch.nn.CTCLoss`](https://pytorch.org/docs/stable/generated/torch.nn.CTCLoss.html)"
      ],
      "metadata": {
        "id": "c_nIkDr4tqzD"
      },
      "id": "c_nIkDr4tqzD"
    },
    {
      "cell_type": "code",
      "source": [
        "from itertools import groupby"
      ],
      "metadata": {
        "id": "Qi4nn7JRvbJp"
      },
      "id": "Qi4nn7JRvbJp",
      "execution_count": 38,
      "outputs": []
    },
    {
      "cell_type": "code",
      "source": [
        "def model_train_eval(model, mode, data_loader):\n",
        "    if mode == \"train\":\n",
        "        model.train()\n",
        "    elif mode == \"eval\":\n",
        "        model.eval()\n",
        "\n",
        "    correct, total = 0, 0\n",
        "    total_loss, num_batches = 0, 0\n",
        "\n",
        "    for x_sample, y_sample in tqdm(data_loader):\n",
        "        batch_size = x_sample.shape[0]\n",
        "        # reset the hidden state of the GRU layers before recognizing any new sequence\n",
        "        crnn.reset_hidden(batch_size)\n",
        "\n",
        "        if mode == \"train\":\n",
        "            optimizer.zero_grad()  \n",
        "    \n",
        "        y_pred = crnn(x_sample.to(device))\n",
        "        # reorder the CRNN's output so it matches the CTCLoss's desired input format\n",
        "        y_pred = y_pred.permute(1, 0, 2)\n",
        "\n",
        "        input_lengths = torch.IntTensor(batch_size).fill_(crnn.postconv_width)\n",
        "        target_lengths = torch.IntTensor([len(t) for t in y_sample])\n",
        "\n",
        "        loss = criterion(y_pred, y_sample.to(device), input_lengths, target_lengths)\n",
        "        # criterion(log_probs, targets, input_lengths, target_lengths)\n",
        "        total_loss += loss.item()\n",
        "\n",
        "        if mode == \"train\":\n",
        "            loss.backward()\n",
        "            optimizer.step()\n",
        "\n",
        "        _, max_index = torch.max(y_pred.detach().cpu(), dim=2)\n",
        "        for i in range(batch_size):\n",
        "            raw_prediction = list(max_index[:, i].numpy())\n",
        "            # groupby -> remove duplicates\n",
        "            prediction = torch.IntTensor([c for c, _ in groupby(raw_prediction) if c != BLANK_TOKEN])\n",
        "            if len(prediction) == len(y_sample[i]) and torch.all(prediction.eq(y_sample[i])):\n",
        "                correct += 1\n",
        "        \n",
        "        total += batch_size\n",
        "        num_batches += 1\n",
        "\n",
        "    print(f\"{mode} correct: {correct} / {total} = {correct / total:.4f}\")\n",
        "    return total_loss / num_batches"
      ],
      "metadata": {
        "id": "Pdqx7e22tqIA"
      },
      "id": "Pdqx7e22tqIA",
      "execution_count": 39,
      "outputs": []
    },
    {
      "cell_type": "markdown",
      "id": "59b328fc",
      "metadata": {
        "id": "59b328fc"
      },
      "source": [
        "## Training"
      ]
    },
    {
      "cell_type": "code",
      "source": [
        "LR = 0.001\n",
        "N_EPOCHS = 30  # 20 - 30"
      ],
      "metadata": {
        "id": "QgXVgdX0vCdt"
      },
      "id": "QgXVgdX0vCdt",
      "execution_count": 40,
      "outputs": []
    },
    {
      "cell_type": "code",
      "source": [
        "# model initialization\n",
        "crnn = CRNN(num_classes=N_TOKENS)\n",
        "crnn.apply(weights_init)\n",
        "crnn.to(device)\n",
        "\n",
        "criterion = nn.CTCLoss(blank=BLANK_IND, reduction=\"mean\", zero_infinity=True)\n",
        "optimizer = torch.optim.Adam(crnn.parameters(), lr=LR)"
      ],
      "metadata": {
        "id": "W3X1PWREumDc"
      },
      "id": "W3X1PWREumDc",
      "execution_count": 41,
      "outputs": []
    },
    {
      "cell_type": "code",
      "source": [
        "# train/eval model\n",
        "history = []\n",
        "for epoch in range(1, N_EPOCHS + 1):\n",
        "    print(f\"\\nEPOCH #{epoch}\")\n",
        "    train_loss = model_train_eval(crnn, mode=\"train\", data_loader=train_loader)\n",
        "    test_loss = model_train_eval(crnn, mode=\"eval\", data_loader=test_loader)\n",
        "    print(f\"Train loss: {train_loss:.4f}\\nTest loss: {test_loss:.4f}\")\n",
        "    history.append((train_loss, test_loss))"
      ],
      "metadata": {
        "colab": {
          "base_uri": "https://localhost:8080/"
        },
        "id": "iK9JpTI-u2l5",
        "outputId": "54e7de90-99a2-4b1a-c8ca-a0e26269c8e1"
      },
      "id": "iK9JpTI-u2l5",
      "execution_count": 42,
      "outputs": [
        {
          "output_type": "stream",
          "name": "stdout",
          "text": [
            "\n",
            "EPOCH #1\n"
          ]
        },
        {
          "output_type": "stream",
          "name": "stderr",
          "text": [
            "100%|██████████| 26/26 [00:03<00:00,  8.13it/s]\n"
          ]
        },
        {
          "output_type": "stream",
          "name": "stdout",
          "text": [
            "train correct: 0 / 832 = 0.0000\n"
          ]
        },
        {
          "output_type": "stream",
          "name": "stderr",
          "text": [
            "100%|██████████| 7/7 [00:00<00:00, 15.56it/s]\n"
          ]
        },
        {
          "output_type": "stream",
          "name": "stdout",
          "text": [
            "eval correct: 0 / 214 = 0.0000\n",
            "Train loss: 5.3462\n",
            "Test loss: 3.2968\n",
            "\n",
            "EPOCH #2\n"
          ]
        },
        {
          "output_type": "stream",
          "name": "stderr",
          "text": [
            "100%|██████████| 26/26 [00:01<00:00, 18.85it/s]\n"
          ]
        },
        {
          "output_type": "stream",
          "name": "stdout",
          "text": [
            "train correct: 0 / 832 = 0.0000\n"
          ]
        },
        {
          "output_type": "stream",
          "name": "stderr",
          "text": [
            "100%|██████████| 7/7 [00:00<00:00, 36.59it/s]\n"
          ]
        },
        {
          "output_type": "stream",
          "name": "stdout",
          "text": [
            "eval correct: 0 / 214 = 0.0000\n",
            "Train loss: 3.2863\n",
            "Test loss: 3.2532\n",
            "\n",
            "EPOCH #3\n"
          ]
        },
        {
          "output_type": "stream",
          "name": "stderr",
          "text": [
            "100%|██████████| 26/26 [00:01<00:00, 14.48it/s]\n"
          ]
        },
        {
          "output_type": "stream",
          "name": "stdout",
          "text": [
            "train correct: 0 / 832 = 0.0000\n"
          ]
        },
        {
          "output_type": "stream",
          "name": "stderr",
          "text": [
            "100%|██████████| 7/7 [00:00<00:00, 18.59it/s]\n"
          ]
        },
        {
          "output_type": "stream",
          "name": "stdout",
          "text": [
            "eval correct: 0 / 214 = 0.0000\n",
            "Train loss: 3.2639\n",
            "Test loss: 3.2587\n",
            "\n",
            "EPOCH #4\n"
          ]
        },
        {
          "output_type": "stream",
          "name": "stderr",
          "text": [
            "100%|██████████| 26/26 [00:02<00:00, 12.91it/s]\n"
          ]
        },
        {
          "output_type": "stream",
          "name": "stdout",
          "text": [
            "train correct: 0 / 832 = 0.0000\n"
          ]
        },
        {
          "output_type": "stream",
          "name": "stderr",
          "text": [
            "100%|██████████| 7/7 [00:00<00:00, 21.32it/s]\n"
          ]
        },
        {
          "output_type": "stream",
          "name": "stdout",
          "text": [
            "eval correct: 0 / 214 = 0.0000\n",
            "Train loss: 3.2576\n",
            "Test loss: 3.2563\n",
            "\n",
            "EPOCH #5\n"
          ]
        },
        {
          "output_type": "stream",
          "name": "stderr",
          "text": [
            "100%|██████████| 26/26 [00:02<00:00, 12.63it/s]\n"
          ]
        },
        {
          "output_type": "stream",
          "name": "stdout",
          "text": [
            "train correct: 0 / 832 = 0.0000\n"
          ]
        },
        {
          "output_type": "stream",
          "name": "stderr",
          "text": [
            "100%|██████████| 7/7 [00:00<00:00, 20.77it/s]\n"
          ]
        },
        {
          "output_type": "stream",
          "name": "stdout",
          "text": [
            "eval correct: 0 / 214 = 0.0000\n",
            "Train loss: 3.2539\n",
            "Test loss: 3.2360\n",
            "\n",
            "EPOCH #6\n"
          ]
        },
        {
          "output_type": "stream",
          "name": "stderr",
          "text": [
            "100%|██████████| 26/26 [00:02<00:00, 11.58it/s]\n"
          ]
        },
        {
          "output_type": "stream",
          "name": "stdout",
          "text": [
            "train correct: 0 / 832 = 0.0000\n"
          ]
        },
        {
          "output_type": "stream",
          "name": "stderr",
          "text": [
            "100%|██████████| 7/7 [00:00<00:00,  9.01it/s]\n"
          ]
        },
        {
          "output_type": "stream",
          "name": "stdout",
          "text": [
            "eval correct: 0 / 214 = 0.0000\n",
            "Train loss: 3.1979\n",
            "Test loss: 3.1262\n",
            "\n",
            "EPOCH #7\n"
          ]
        },
        {
          "output_type": "stream",
          "name": "stderr",
          "text": [
            "100%|██████████| 26/26 [00:03<00:00,  6.64it/s]\n"
          ]
        },
        {
          "output_type": "stream",
          "name": "stdout",
          "text": [
            "train correct: 0 / 832 = 0.0000\n"
          ]
        },
        {
          "output_type": "stream",
          "name": "stderr",
          "text": [
            "100%|██████████| 7/7 [00:00<00:00, 17.86it/s]\n"
          ]
        },
        {
          "output_type": "stream",
          "name": "stdout",
          "text": [
            "eval correct: 0 / 214 = 0.0000\n",
            "Train loss: 2.9884\n",
            "Test loss: 2.8160\n",
            "\n",
            "EPOCH #8\n"
          ]
        },
        {
          "output_type": "stream",
          "name": "stderr",
          "text": [
            "100%|██████████| 26/26 [00:02<00:00, 10.60it/s]\n"
          ]
        },
        {
          "output_type": "stream",
          "name": "stdout",
          "text": [
            "train correct: 0 / 832 = 0.0000\n"
          ]
        },
        {
          "output_type": "stream",
          "name": "stderr",
          "text": [
            "100%|██████████| 7/7 [00:00<00:00, 31.62it/s]\n"
          ]
        },
        {
          "output_type": "stream",
          "name": "stdout",
          "text": [
            "eval correct: 0 / 214 = 0.0000\n",
            "Train loss: 2.2037\n",
            "Test loss: 1.4422\n",
            "\n",
            "EPOCH #9\n"
          ]
        },
        {
          "output_type": "stream",
          "name": "stderr",
          "text": [
            "100%|██████████| 26/26 [00:01<00:00, 19.06it/s]\n"
          ]
        },
        {
          "output_type": "stream",
          "name": "stdout",
          "text": [
            "train correct: 0 / 832 = 0.0000\n"
          ]
        },
        {
          "output_type": "stream",
          "name": "stderr",
          "text": [
            "100%|██████████| 7/7 [00:00<00:00, 34.20it/s]\n"
          ]
        },
        {
          "output_type": "stream",
          "name": "stdout",
          "text": [
            "eval correct: 0 / 214 = 0.0000\n",
            "Train loss: 0.8959\n",
            "Test loss: 0.4977\n",
            "\n",
            "EPOCH #10\n"
          ]
        },
        {
          "output_type": "stream",
          "name": "stderr",
          "text": [
            "100%|██████████| 26/26 [00:01<00:00, 20.45it/s]\n"
          ]
        },
        {
          "output_type": "stream",
          "name": "stdout",
          "text": [
            "train correct: 0 / 832 = 0.0000\n"
          ]
        },
        {
          "output_type": "stream",
          "name": "stderr",
          "text": [
            "100%|██████████| 7/7 [00:00<00:00, 36.16it/s]\n"
          ]
        },
        {
          "output_type": "stream",
          "name": "stdout",
          "text": [
            "eval correct: 0 / 214 = 0.0000\n",
            "Train loss: 0.3542\n",
            "Test loss: 0.3187\n",
            "\n",
            "EPOCH #11\n"
          ]
        },
        {
          "output_type": "stream",
          "name": "stderr",
          "text": [
            "100%|██████████| 26/26 [00:01<00:00, 20.24it/s]\n"
          ]
        },
        {
          "output_type": "stream",
          "name": "stdout",
          "text": [
            "train correct: 0 / 832 = 0.0000\n"
          ]
        },
        {
          "output_type": "stream",
          "name": "stderr",
          "text": [
            "100%|██████████| 7/7 [00:00<00:00, 35.88it/s]\n"
          ]
        },
        {
          "output_type": "stream",
          "name": "stdout",
          "text": [
            "eval correct: 0 / 214 = 0.0000\n",
            "Train loss: 0.1929\n",
            "Test loss: 0.1661\n",
            "\n",
            "EPOCH #12\n"
          ]
        },
        {
          "output_type": "stream",
          "name": "stderr",
          "text": [
            "100%|██████████| 26/26 [00:01<00:00, 20.40it/s]\n"
          ]
        },
        {
          "output_type": "stream",
          "name": "stdout",
          "text": [
            "train correct: 0 / 832 = 0.0000\n"
          ]
        },
        {
          "output_type": "stream",
          "name": "stderr",
          "text": [
            "100%|██████████| 7/7 [00:00<00:00, 33.94it/s]\n"
          ]
        },
        {
          "output_type": "stream",
          "name": "stdout",
          "text": [
            "eval correct: 0 / 214 = 0.0000\n",
            "Train loss: 0.1156\n",
            "Test loss: 0.1079\n",
            "\n",
            "EPOCH #13\n"
          ]
        },
        {
          "output_type": "stream",
          "name": "stderr",
          "text": [
            "100%|██████████| 26/26 [00:01<00:00, 18.24it/s]\n"
          ]
        },
        {
          "output_type": "stream",
          "name": "stdout",
          "text": [
            "train correct: 0 / 832 = 0.0000\n"
          ]
        },
        {
          "output_type": "stream",
          "name": "stderr",
          "text": [
            "100%|██████████| 7/7 [00:00<00:00, 28.52it/s]\n"
          ]
        },
        {
          "output_type": "stream",
          "name": "stdout",
          "text": [
            "eval correct: 0 / 214 = 0.0000\n",
            "Train loss: 0.0758\n",
            "Test loss: 0.0901\n",
            "\n",
            "EPOCH #14\n"
          ]
        },
        {
          "output_type": "stream",
          "name": "stderr",
          "text": [
            "100%|██████████| 26/26 [00:01<00:00, 16.58it/s]\n"
          ]
        },
        {
          "output_type": "stream",
          "name": "stdout",
          "text": [
            "train correct: 0 / 832 = 0.0000\n"
          ]
        },
        {
          "output_type": "stream",
          "name": "stderr",
          "text": [
            "100%|██████████| 7/7 [00:00<00:00, 27.08it/s]\n"
          ]
        },
        {
          "output_type": "stream",
          "name": "stdout",
          "text": [
            "eval correct: 0 / 214 = 0.0000\n",
            "Train loss: 0.0483\n",
            "Test loss: 0.0717\n",
            "\n",
            "EPOCH #15\n"
          ]
        },
        {
          "output_type": "stream",
          "name": "stderr",
          "text": [
            "100%|██████████| 26/26 [00:01<00:00, 16.01it/s]\n"
          ]
        },
        {
          "output_type": "stream",
          "name": "stdout",
          "text": [
            "train correct: 0 / 832 = 0.0000\n"
          ]
        },
        {
          "output_type": "stream",
          "name": "stderr",
          "text": [
            "100%|██████████| 7/7 [00:00<00:00, 36.33it/s]\n"
          ]
        },
        {
          "output_type": "stream",
          "name": "stdout",
          "text": [
            "eval correct: 0 / 214 = 0.0000\n",
            "Train loss: 0.0341\n",
            "Test loss: 0.0467\n",
            "\n",
            "EPOCH #16\n"
          ]
        },
        {
          "output_type": "stream",
          "name": "stderr",
          "text": [
            "100%|██████████| 26/26 [00:01<00:00, 20.22it/s]\n"
          ]
        },
        {
          "output_type": "stream",
          "name": "stdout",
          "text": [
            "train correct: 0 / 832 = 0.0000\n"
          ]
        },
        {
          "output_type": "stream",
          "name": "stderr",
          "text": [
            "100%|██████████| 7/7 [00:00<00:00, 34.39it/s]\n"
          ]
        },
        {
          "output_type": "stream",
          "name": "stdout",
          "text": [
            "eval correct: 0 / 214 = 0.0000\n",
            "Train loss: 0.0249\n",
            "Test loss: 0.0405\n",
            "\n",
            "EPOCH #17\n"
          ]
        },
        {
          "output_type": "stream",
          "name": "stderr",
          "text": [
            "100%|██████████| 26/26 [00:01<00:00, 19.36it/s]\n"
          ]
        },
        {
          "output_type": "stream",
          "name": "stdout",
          "text": [
            "train correct: 0 / 832 = 0.0000\n"
          ]
        },
        {
          "output_type": "stream",
          "name": "stderr",
          "text": [
            "100%|██████████| 7/7 [00:00<00:00, 36.77it/s]\n"
          ]
        },
        {
          "output_type": "stream",
          "name": "stdout",
          "text": [
            "eval correct: 0 / 214 = 0.0000\n",
            "Train loss: 0.0206\n",
            "Test loss: 0.0398\n",
            "\n",
            "EPOCH #18\n"
          ]
        },
        {
          "output_type": "stream",
          "name": "stderr",
          "text": [
            "100%|██████████| 26/26 [00:02<00:00, 12.67it/s]\n"
          ]
        },
        {
          "output_type": "stream",
          "name": "stdout",
          "text": [
            "train correct: 0 / 832 = 0.0000\n"
          ]
        },
        {
          "output_type": "stream",
          "name": "stderr",
          "text": [
            "100%|██████████| 7/7 [00:00<00:00, 13.28it/s]\n"
          ]
        },
        {
          "output_type": "stream",
          "name": "stdout",
          "text": [
            "eval correct: 0 / 214 = 0.0000\n",
            "Train loss: 0.0163\n",
            "Test loss: 0.0343\n",
            "\n",
            "EPOCH #19\n"
          ]
        },
        {
          "output_type": "stream",
          "name": "stderr",
          "text": [
            "100%|██████████| 26/26 [00:02<00:00, 12.31it/s]\n"
          ]
        },
        {
          "output_type": "stream",
          "name": "stdout",
          "text": [
            "train correct: 0 / 832 = 0.0000\n"
          ]
        },
        {
          "output_type": "stream",
          "name": "stderr",
          "text": [
            "100%|██████████| 7/7 [00:00<00:00, 24.42it/s]\n"
          ]
        },
        {
          "output_type": "stream",
          "name": "stdout",
          "text": [
            "eval correct: 0 / 214 = 0.0000\n",
            "Train loss: 0.0133\n",
            "Test loss: 0.0360\n",
            "\n",
            "EPOCH #20\n"
          ]
        },
        {
          "output_type": "stream",
          "name": "stderr",
          "text": [
            "100%|██████████| 26/26 [00:02<00:00,  9.51it/s]\n"
          ]
        },
        {
          "output_type": "stream",
          "name": "stdout",
          "text": [
            "train correct: 0 / 832 = 0.0000\n"
          ]
        },
        {
          "output_type": "stream",
          "name": "stderr",
          "text": [
            "100%|██████████| 7/7 [00:00<00:00, 11.78it/s]\n"
          ]
        },
        {
          "output_type": "stream",
          "name": "stdout",
          "text": [
            "eval correct: 0 / 214 = 0.0000\n",
            "Train loss: 0.0107\n",
            "Test loss: 0.0285\n",
            "\n",
            "EPOCH #21\n"
          ]
        },
        {
          "output_type": "stream",
          "name": "stderr",
          "text": [
            "100%|██████████| 26/26 [00:03<00:00,  6.57it/s]\n"
          ]
        },
        {
          "output_type": "stream",
          "name": "stdout",
          "text": [
            "train correct: 0 / 832 = 0.0000\n"
          ]
        },
        {
          "output_type": "stream",
          "name": "stderr",
          "text": [
            "100%|██████████| 7/7 [00:00<00:00, 18.15it/s]\n"
          ]
        },
        {
          "output_type": "stream",
          "name": "stdout",
          "text": [
            "eval correct: 0 / 214 = 0.0000\n",
            "Train loss: 0.0080\n",
            "Test loss: 0.0279\n",
            "\n",
            "EPOCH #22\n"
          ]
        },
        {
          "output_type": "stream",
          "name": "stderr",
          "text": [
            "100%|██████████| 26/26 [00:02<00:00, 12.30it/s]\n"
          ]
        },
        {
          "output_type": "stream",
          "name": "stdout",
          "text": [
            "train correct: 0 / 832 = 0.0000\n"
          ]
        },
        {
          "output_type": "stream",
          "name": "stderr",
          "text": [
            "100%|██████████| 7/7 [00:00<00:00, 17.06it/s]\n"
          ]
        },
        {
          "output_type": "stream",
          "name": "stdout",
          "text": [
            "eval correct: 0 / 214 = 0.0000\n",
            "Train loss: 0.0063\n",
            "Test loss: 0.0253\n",
            "\n",
            "EPOCH #23\n"
          ]
        },
        {
          "output_type": "stream",
          "name": "stderr",
          "text": [
            "100%|██████████| 26/26 [00:01<00:00, 14.82it/s]\n"
          ]
        },
        {
          "output_type": "stream",
          "name": "stdout",
          "text": [
            "train correct: 0 / 832 = 0.0000\n"
          ]
        },
        {
          "output_type": "stream",
          "name": "stderr",
          "text": [
            "100%|██████████| 7/7 [00:00<00:00, 14.24it/s]\n"
          ]
        },
        {
          "output_type": "stream",
          "name": "stdout",
          "text": [
            "eval correct: 0 / 214 = 0.0000\n",
            "Train loss: 0.0055\n",
            "Test loss: 0.0241\n",
            "\n",
            "EPOCH #24\n"
          ]
        },
        {
          "output_type": "stream",
          "name": "stderr",
          "text": [
            "100%|██████████| 26/26 [00:02<00:00, 11.99it/s]\n"
          ]
        },
        {
          "output_type": "stream",
          "name": "stdout",
          "text": [
            "train correct: 0 / 832 = 0.0000\n"
          ]
        },
        {
          "output_type": "stream",
          "name": "stderr",
          "text": [
            "100%|██████████| 7/7 [00:00<00:00, 35.60it/s]\n"
          ]
        },
        {
          "output_type": "stream",
          "name": "stdout",
          "text": [
            "eval correct: 0 / 214 = 0.0000\n",
            "Train loss: 0.0048\n",
            "Test loss: 0.0230\n",
            "\n",
            "EPOCH #25\n"
          ]
        },
        {
          "output_type": "stream",
          "name": "stderr",
          "text": [
            "100%|██████████| 26/26 [00:01<00:00, 20.58it/s]\n"
          ]
        },
        {
          "output_type": "stream",
          "name": "stdout",
          "text": [
            "train correct: 0 / 832 = 0.0000\n"
          ]
        },
        {
          "output_type": "stream",
          "name": "stderr",
          "text": [
            "100%|██████████| 7/7 [00:00<00:00, 34.38it/s]\n"
          ]
        },
        {
          "output_type": "stream",
          "name": "stdout",
          "text": [
            "eval correct: 0 / 214 = 0.0000\n",
            "Train loss: 0.0043\n",
            "Test loss: 0.0227\n",
            "\n",
            "EPOCH #26\n"
          ]
        },
        {
          "output_type": "stream",
          "name": "stderr",
          "text": [
            "100%|██████████| 26/26 [00:01<00:00, 16.67it/s]\n"
          ]
        },
        {
          "output_type": "stream",
          "name": "stdout",
          "text": [
            "train correct: 0 / 832 = 0.0000\n"
          ]
        },
        {
          "output_type": "stream",
          "name": "stderr",
          "text": [
            "100%|██████████| 7/7 [00:00<00:00, 27.92it/s]\n"
          ]
        },
        {
          "output_type": "stream",
          "name": "stdout",
          "text": [
            "eval correct: 0 / 214 = 0.0000\n",
            "Train loss: 0.0039\n",
            "Test loss: 0.0218\n",
            "\n",
            "EPOCH #27\n"
          ]
        },
        {
          "output_type": "stream",
          "name": "stderr",
          "text": [
            "100%|██████████| 26/26 [00:01<00:00, 16.28it/s]\n"
          ]
        },
        {
          "output_type": "stream",
          "name": "stdout",
          "text": [
            "train correct: 0 / 832 = 0.0000\n"
          ]
        },
        {
          "output_type": "stream",
          "name": "stderr",
          "text": [
            "100%|██████████| 7/7 [00:00<00:00, 27.44it/s]\n"
          ]
        },
        {
          "output_type": "stream",
          "name": "stdout",
          "text": [
            "eval correct: 0 / 214 = 0.0000\n",
            "Train loss: 0.0037\n",
            "Test loss: 0.0213\n",
            "\n",
            "EPOCH #28\n"
          ]
        },
        {
          "output_type": "stream",
          "name": "stderr",
          "text": [
            "100%|██████████| 26/26 [00:01<00:00, 18.45it/s]\n"
          ]
        },
        {
          "output_type": "stream",
          "name": "stdout",
          "text": [
            "train correct: 0 / 832 = 0.0000\n"
          ]
        },
        {
          "output_type": "stream",
          "name": "stderr",
          "text": [
            "100%|██████████| 7/7 [00:00<00:00, 34.68it/s]\n"
          ]
        },
        {
          "output_type": "stream",
          "name": "stdout",
          "text": [
            "eval correct: 0 / 214 = 0.0000\n",
            "Train loss: 0.0033\n",
            "Test loss: 0.0205\n",
            "\n",
            "EPOCH #29\n"
          ]
        },
        {
          "output_type": "stream",
          "name": "stderr",
          "text": [
            "100%|██████████| 26/26 [00:01<00:00, 20.35it/s]\n"
          ]
        },
        {
          "output_type": "stream",
          "name": "stdout",
          "text": [
            "train correct: 0 / 832 = 0.0000\n"
          ]
        },
        {
          "output_type": "stream",
          "name": "stderr",
          "text": [
            "100%|██████████| 7/7 [00:00<00:00, 36.56it/s]\n"
          ]
        },
        {
          "output_type": "stream",
          "name": "stdout",
          "text": [
            "eval correct: 0 / 214 = 0.0000\n",
            "Train loss: 0.0030\n",
            "Test loss: 0.0207\n",
            "\n",
            "EPOCH #30\n"
          ]
        },
        {
          "output_type": "stream",
          "name": "stderr",
          "text": [
            "100%|██████████| 26/26 [00:01<00:00, 20.33it/s]\n"
          ]
        },
        {
          "output_type": "stream",
          "name": "stdout",
          "text": [
            "train correct: 0 / 832 = 0.0000\n"
          ]
        },
        {
          "output_type": "stream",
          "name": "stderr",
          "text": [
            "100%|██████████| 7/7 [00:00<00:00, 34.81it/s]"
          ]
        },
        {
          "output_type": "stream",
          "name": "stdout",
          "text": [
            "eval correct: 0 / 214 = 0.0000\n",
            "Train loss: 0.0028\n",
            "Test loss: 0.0199\n"
          ]
        },
        {
          "output_type": "stream",
          "name": "stderr",
          "text": [
            "\n"
          ]
        }
      ]
    },
    {
      "cell_type": "code",
      "execution_count": 43,
      "id": "a3c05906",
      "metadata": {
        "colab": {
          "base_uri": "https://localhost:8080/",
          "height": 265
        },
        "id": "a3c05906",
        "outputId": "c9b166e8-028d-4b37-e02e-dca80054fe48"
      },
      "outputs": [
        {
          "output_type": "display_data",
          "data": {
            "text/plain": [
              "<Figure size 432x288 with 1 Axes>"
            ],
            "image/png": "[encoded data removed]"
          },
          "metadata": {
            "image/png": {
              "width": 362,
              "height": 248
            },
            "needs_background": "light"
          }
        }
      ],
      "source": [
        "plt.plot(range(1, N_EPOCHS+1), [loss[0] for loss in history], label=\"train loss\")\n",
        "plt.plot(range(1, N_EPOCHS+1), [loss[1] for loss in history], label=\"test loss\")\n",
        "plt.grid()\n",
        "plt.legend();"
      ]
    },
    {
      "cell_type": "markdown",
      "id": "1fd1e58f",
      "metadata": {
        "id": "1fd1e58f"
      },
      "source": [
        "## Metrics calculations\n",
        "\n",
        "Character Error Rate\n",
        "([CER](https://towardsdatascience.com/evaluating-ocr-output-quality-with-character-error-rate-cer-and-word-error-rate-wer-853175297510))\n",
        "\n",
        "CER calculation is based on the concept of Levenshtein distance, where we count the minimum number of character-level operations required to transform the ground truth text (aka reference text) into the OCR output.\n",
        "\n",
        "$$\\mathbf{CER} = \\frac{S + D + I}{N}$$\n",
        "\n",
        "$S$: Number of Substitutions\n",
        "\n",
        "$N$: Number of Deletions\n",
        "\n",
        "$I$: Number of Insertions\n",
        "\n",
        "$N$: Number of characters in reference text (aka ground truth)\n",
        "\n",
        "*The denominator $N$ can alternatively be computed with:\n",
        "$N = S + D + C$ (where $C$ is number of correct characters)*\n",
        "\n",
        "The output of this equation represents the percentage of characters in the reference text that was incorrectly predicted in the OCR output. The lower the CER value (with 0 being a perfect score), the better the performance of the OCR model.\n",
        "\n",
        "[torchmetrics](https://torchmetrics.readthedocs.io/en/stable/text/char_error_rate.html)"
      ]
    },
    {
      "cell_type": "code",
      "source": [
        "!pip install torchmetrics"
      ],
      "metadata": {
        "colab": {
          "base_uri": "https://localhost:8080/"
        },
        "id": "-JWlNxwUwhhx",
        "outputId": "3eb5b908-100b-4c7e-948e-50b18dc4b062"
      },
      "id": "-JWlNxwUwhhx",
      "execution_count": 44,
      "outputs": [
        {
          "output_type": "stream",
          "name": "stdout",
          "text": [
            "Looking in indexes: https://pypi.org/simple, https://us-python.pkg.dev/colab-wheels/public/simple/\n",
            "Requirement already satisfied: torchmetrics in /usr/local/lib/python3.8/dist-packages (0.11.1)\n",
            "Requirement already satisfied: torch>=1.8.1 in /usr/local/lib/python3.8/dist-packages (from torchmetrics) (1.13.1+cu116)\n",
            "Requirement already satisfied: numpy>=1.17.2 in /usr/local/lib/python3.8/dist-packages (from torchmetrics) (1.21.6)\n",
            "Requirement already satisfied: packaging in /usr/local/lib/python3.8/dist-packages (from torchmetrics) (23.0)\n",
            "Requirement already satisfied: typing-extensions in /usr/local/lib/python3.8/dist-packages (from torchmetrics) (4.4.0)\n"
          ]
        }
      ]
    },
    {
      "cell_type": "code",
      "source": [
        "import torchmetrics"
      ],
      "metadata": {
        "id": "b9L59xkLweMV"
      },
      "id": "b9L59xkLweMV",
      "execution_count": 45,
      "outputs": []
    },
    {
      "cell_type": "code",
      "source": [
        "# character error rate\n",
        "cer = torchmetrics.CharErrorRate()\n",
        "cer(preds='80g475Z7', target='809475127')"
      ],
      "metadata": {
        "colab": {
          "base_uri": "https://localhost:8080/"
        },
        "id": "Q6HRFsWzlMWR",
        "outputId": "c066d89b-6c9c-4059-8776-7ad8191f8740"
      },
      "id": "Q6HRFsWzlMWR",
      "execution_count": 46,
      "outputs": [
        {
          "output_type": "execute_result",
          "data": {
            "text/plain": [
              "tensor(0.3333)"
            ]
          },
          "metadata": {},
          "execution_count": 46
        }
      ]
    },
    {
      "cell_type": "code",
      "source": [
        "preds_info = []\n",
        "\n",
        "for x_test, y_test in tqdm(test_loader):\n",
        "    crnn.eval()\n",
        "\n",
        "    batch_size = x_test.shape[0]\n",
        "    crnn.reset_hidden(batch_size)\n",
        "    y_pred = crnn(x_test.to(device))  \n",
        "    y_pred = y_pred.permute(1, 0, 2)\n",
        "    \n",
        "    _, max_index = torch.max(y_pred.detach().cpu(), dim=2)\n",
        "    for i in range(batch_size):\n",
        "        raw_prediction = list(max_index[:, i].numpy())\n",
        "        prediction = torch.IntTensor([c for c, _ in groupby(raw_prediction) if c != BLANK_IND])\n",
        "        pred = \"\".join([idx_to_token[idx] for idx in prediction.numpy()])\n",
        "        trgt = \"\".join([idx_to_token[idx] for idx in y_test[i].numpy()])\n",
        "        preds_info.append((pred, trgt, cer(pred, trgt).item()))"
      ],
      "metadata": {
        "colab": {
          "base_uri": "https://localhost:8080/"
        },
        "id": "XXocZC6akveZ",
        "outputId": "5109b999-8d2b-4733-e084-6cfde4abab7e"
      },
      "id": "XXocZC6akveZ",
      "execution_count": 49,
      "outputs": [
        {
          "output_type": "stream",
          "name": "stderr",
          "text": [
            "100%|██████████| 7/7 [00:00<00:00, 12.07it/s]\n"
          ]
        }
      ]
    },
    {
      "cell_type": "code",
      "source": [
        "preds_df = pd.DataFrame(\n",
        "    {\n",
        "        \"prediction\": [p[0] for p in preds_info], \n",
        "        \"target\": [p[1] for p in preds_info], \n",
        "        \"cer\": [p[2] for p in preds_info]\n",
        "    }\n",
        ")\n",
        "preds_df.head()"
      ],
      "metadata": {
        "colab": {
          "base_uri": "https://localhost:8080/",
          "height": 206
        },
        "id": "tREfI1-Rr6bl",
        "outputId": "e49a908e-aa6a-42e4-a666-0aef97ff2f90"
      },
      "id": "tREfI1-Rr6bl",
      "execution_count": 50,
      "outputs": [
        {
          "output_type": "execute_result",
          "data": {
            "text/plain": [
              "  prediction target  cer\n",
              "0      px8n8  px8n8  0.0\n",
              "1      pw5nc  pw5nc  0.0\n",
              "2      w6yne  w6yne  0.0\n",
              "3      mnef5  mnef5  0.0\n",
              "4      d7nn3  d7nn3  0.0"
            ],
            "text/html": [
              "\n",
              "  <div id=\"df-342b3cf9-f659-4aa9-a570-c548ca40ff0c\">\n",
              "    <div class=\"colab-df-container\">\n",
              "      <div>\n",
              "<style scoped>\n",
              "    .dataframe tbody tr th:only-of-type {\n",
              "        vertical-align: middle;\n",
              "    }\n",
              "\n",
              "    .dataframe tbody tr th {\n",
              "        vertical-align: top;\n",
              "    }\n",
              "\n",
              "    .dataframe thead th {\n",
              "        text-align: right;\n",
              "    }\n",
              "</style>\n",
              "<table border=\"1\" class=\"dataframe\">\n",
              "  <thead>\n",
              "    <tr style=\"text-align: right;\">\n",
              "      <th></th>\n",
              "      <th>prediction</th>\n",
              "      <th>target</th>\n",
              "      <th>cer</th>\n",
              "    </tr>\n",
              "  </thead>\n",
              "  <tbody>\n",
              "    <tr>\n",
              "      <th>0</th>\n",
              "      <td>px8n8</td>\n",
              "      <td>px8n8</td>\n",
              "      <td>0.0</td>\n",
              "    </tr>\n",
              "    <tr>\n",
              "      <th>1</th>\n",
              "      <td>pw5nc</td>\n",
              "      <td>pw5nc</td>\n",
              "      <td>0.0</td>\n",
              "    </tr>\n",
              "    <tr>\n",
              "      <th>2</th>\n",
              "      <td>w6yne</td>\n",
              "      <td>w6yne</td>\n",
              "      <td>0.0</td>\n",
              "    </tr>\n",
              "    <tr>\n",
              "      <th>3</th>\n",
              "      <td>mnef5</td>\n",
              "      <td>mnef5</td>\n",
              "      <td>0.0</td>\n",
              "    </tr>\n",
              "    <tr>\n",
              "      <th>4</th>\n",
              "      <td>d7nn3</td>\n",
              "      <td>d7nn3</td>\n",
              "      <td>0.0</td>\n",
              "    </tr>\n",
              "  </tbody>\n",
              "</table>\n",
              "</div>\n",
              "      <button class=\"colab-df-convert\" onclick=\"convertToInteractive('df-342b3cf9-f659-4aa9-a570-c548ca40ff0c')\"\n",
              "              title=\"Convert this dataframe to an interactive table.\"\n",
              "              style=\"display:none;\">\n",
              "        \n",
              "  <svg xmlns=\"http://www.w3.org/2000/svg\" height=\"24px\"viewBox=\"0 0 24 24\"\n",
              "       width=\"24px\">\n",
              "    <path d=\"M0 0h24v24H0V0z\" fill=\"none\"/>\n",
              "    <path d=\"M18.56 5.44l.94 2.06.94-2.06 2.06-.94-2.06-.94-.94-2.06-.94 2.06-2.06.94zm-11 1L8.5 8.5l.94-2.06 2.06-.94-2.06-.94L8.5 2.5l-.94 2.06-2.06.94zm10 10l.94 2.06.94-2.06 2.06-.94-2.06-.94-.94-2.06-.94 2.06-2.06.94z\"/><path d=\"M17.41 7.96l-1.37-1.37c-.4-.4-.92-.59-1.43-.59-.52 0-1.04.2-1.43.59L10.3 9.45l-7.72 7.72c-.78.78-.78 2.05 0 2.83L4 21.41c.39.39.9.59 1.41.59.51 0 1.02-.2 1.41-.59l7.78-7.78 2.81-2.81c.8-.78.8-2.07 0-2.86zM5.41 20L4 18.59l7.72-7.72 1.47 1.35L5.41 20z\"/>\n",
              "  </svg>\n",
              "      </button>\n",
              "      \n",
              "  <style>\n",
              "    .colab-df-container {\n",
              "      display:flex;\n",
              "      flex-wrap:wrap;\n",
              "      gap: 12px;\n",
              "    }\n",
              "\n",
              "    .colab-df-convert {\n",
              "      background-color: #E8F0FE;\n",
              "      border: none;\n",
              "      border-radius: 50%;\n",
              "      cursor: pointer;\n",
              "      display: none;\n",
              "      fill: #1967D2;\n",
              "      height: 32px;\n",
              "      padding: 0 0 0 0;\n",
              "      width: 32px;\n",
              "    }\n",
              "\n",
              "    .colab-df-convert:hover {\n",
              "      background-color: #E2EBFA;\n",
              "      box-shadow: 0px 1px 2px rgba(60, 64, 67, 0.3), 0px 1px 3px 1px rgba(60, 64, 67, 0.15);\n",
              "      fill: #174EA6;\n",
              "    }\n",
              "\n",
              "    [theme=dark] .colab-df-convert {\n",
              "      background-color: #3B4455;\n",
              "      fill: #D2E3FC;\n",
              "    }\n",
              "\n",
              "    [theme=dark] .colab-df-convert:hover {\n",
              "      background-color: #434B5C;\n",
              "      box-shadow: 0px 1px 3px 1px rgba(0, 0, 0, 0.15);\n",
              "      filter: drop-shadow(0px 1px 2px rgba(0, 0, 0, 0.3));\n",
              "      fill: #FFFFFF;\n",
              "    }\n",
              "  </style>\n",
              "\n",
              "      <script>\n",
              "        const buttonEl =\n",
              "          document.querySelector('#df-342b3cf9-f659-4aa9-a570-c548ca40ff0c button.colab-df-convert');\n",
              "        buttonEl.style.display =\n",
              "          google.colab.kernel.accessAllowed ? 'block' : 'none';\n",
              "\n",
              "        async function convertToInteractive(key) {\n",
              "          const element = document.querySelector('#df-342b3cf9-f659-4aa9-a570-c548ca40ff0c');\n",
              "          const dataTable =\n",
              "            await google.colab.kernel.invokeFunction('convertToInteractive',\n",
              "                                                     [key], {});\n",
              "          if (!dataTable) return;\n",
              "\n",
              "          const docLinkHtml = 'Like what you see? Visit the ' +\n",
              "            '<a target=\"_blank\" href=https://colab.research.google.com/notebooks/data_table.ipynb>data table notebook</a>'\n",
              "            + ' to learn more about interactive tables.';\n",
              "          element.innerHTML = '';\n",
              "          dataTable['output_type'] = 'display_data';\n",
              "          await google.colab.output.renderOutput(dataTable, element);\n",
              "          const docLink = document.createElement('div');\n",
              "          docLink.innerHTML = docLinkHtml;\n",
              "          element.appendChild(docLink);\n",
              "        }\n",
              "      </script>\n",
              "    </div>\n",
              "  </div>\n",
              "  "
            ]
          },
          "metadata": {},
          "execution_count": 50
        }
      ]
    },
    {
      "cell_type": "code",
      "source": [
        "preds_df.cer.hist(bins=5);"
      ],
      "metadata": {
        "colab": {
          "base_uri": "https://localhost:8080/",
          "height": 265
        },
        "id": "9qMTO0xazlna",
        "outputId": "79704415-b9e6-45b6-e32d-52a4551ca63e"
      },
      "id": "9qMTO0xazlna",
      "execution_count": 51,
      "outputs": [
        {
          "output_type": "display_data",
          "data": {
            "text/plain": [
              "<Figure size 432x288 with 1 Axes>"
            ],
            "image/png": "[encoded data removed]"
          },
          "metadata": {
            "image/png": {
              "width": 375,
              "height": 248
            },
            "needs_background": "light"
          }
        }
      ]
    },
    {
      "cell_type": "code",
      "source": [
        "preds_df.loc[preds_df.cer > 0.15]"
      ],
      "metadata": {
        "colab": {
          "base_uri": "https://localhost:8080/",
          "height": 269
        },
        "id": "NJEPJQjP1ZOP",
        "outputId": "7cea5fb0-8d68-4296-933d-c9147a756bf1"
      },
      "id": "NJEPJQjP1ZOP",
      "execution_count": 52,
      "outputs": [
        {
          "output_type": "execute_result",
          "data": {
            "text/plain": [
              "    prediction target  cer\n",
              "12       gn4n4  en4n4  0.2\n",
              "20      mp7wwp  mp7wp  0.2\n",
              "32       gfe62  efe62  0.2\n",
              "136       65nm  65nmw  0.2\n",
              "152      ncwn7  ncww7  0.2\n",
              "187     wwce5n  wce5n  0.2\n",
              "190       p2d7  p2dw7  0.2"
            ],
            "text/html": [
              "\n",
              "  <div id=\"df-dd6091e1-253c-4867-83ab-de310972263b\">\n",
              "    <div class=\"colab-df-container\">\n",
              "      <div>\n",
              "<style scoped>\n",
              "    .dataframe tbody tr th:only-of-type {\n",
              "        vertical-align: middle;\n",
              "    }\n",
              "\n",
              "    .dataframe tbody tr th {\n",
              "        vertical-align: top;\n",
              "    }\n",
              "\n",
              "    .dataframe thead th {\n",
              "        text-align: right;\n",
              "    }\n",
              "</style>\n",
              "<table border=\"1\" class=\"dataframe\">\n",
              "  <thead>\n",
              "    <tr style=\"text-align: right;\">\n",
              "      <th></th>\n",
              "      <th>prediction</th>\n",
              "      <th>target</th>\n",
              "      <th>cer</th>\n",
              "    </tr>\n",
              "  </thead>\n",
              "  <tbody>\n",
              "    <tr>\n",
              "      <th>12</th>\n",
              "      <td>gn4n4</td>\n",
              "      <td>en4n4</td>\n",
              "      <td>0.2</td>\n",
              "    </tr>\n",
              "    <tr>\n",
              "      <th>20</th>\n",
              "      <td>mp7wwp</td>\n",
              "      <td>mp7wp</td>\n",
              "      <td>0.2</td>\n",
              "    </tr>\n",
              "    <tr>\n",
              "      <th>32</th>\n",
              "      <td>gfe62</td>\n",
              "      <td>efe62</td>\n",
              "      <td>0.2</td>\n",
              "    </tr>\n",
              "    <tr>\n",
              "      <th>136</th>\n",
              "      <td>65nm</td>\n",
              "      <td>65nmw</td>\n",
              "      <td>0.2</td>\n",
              "    </tr>\n",
              "    <tr>\n",
              "      <th>152</th>\n",
              "      <td>ncwn7</td>\n",
              "      <td>ncww7</td>\n",
              "      <td>0.2</td>\n",
              "    </tr>\n",
              "    <tr>\n",
              "      <th>187</th>\n",
              "      <td>wwce5n</td>\n",
              "      <td>wce5n</td>\n",
              "      <td>0.2</td>\n",
              "    </tr>\n",
              "    <tr>\n",
              "      <th>190</th>\n",
              "      <td>p2d7</td>\n",
              "      <td>p2dw7</td>\n",
              "      <td>0.2</td>\n",
              "    </tr>\n",
              "  </tbody>\n",
              "</table>\n",
              "</div>\n",
              "      <button class=\"colab-df-convert\" onclick=\"convertToInteractive('df-dd6091e1-253c-4867-83ab-de310972263b')\"\n",
              "              title=\"Convert this dataframe to an interactive table.\"\n",
              "              style=\"display:none;\">\n",
              "        \n",
              "  <svg xmlns=\"http://www.w3.org/2000/svg\" height=\"24px\"viewBox=\"0 0 24 24\"\n",
              "       width=\"24px\">\n",
              "    <path d=\"M0 0h24v24H0V0z\" fill=\"none\"/>\n",
              "    <path d=\"M18.56 5.44l.94 2.06.94-2.06 2.06-.94-2.06-.94-.94-2.06-.94 2.06-2.06.94zm-11 1L8.5 8.5l.94-2.06 2.06-.94-2.06-.94L8.5 2.5l-.94 2.06-2.06.94zm10 10l.94 2.06.94-2.06 2.06-.94-2.06-.94-.94-2.06-.94 2.06-2.06.94z\"/><path d=\"M17.41 7.96l-1.37-1.37c-.4-.4-.92-.59-1.43-.59-.52 0-1.04.2-1.43.59L10.3 9.45l-7.72 7.72c-.78.78-.78 2.05 0 2.83L4 21.41c.39.39.9.59 1.41.59.51 0 1.02-.2 1.41-.59l7.78-7.78 2.81-2.81c.8-.78.8-2.07 0-2.86zM5.41 20L4 18.59l7.72-7.72 1.47 1.35L5.41 20z\"/>\n",
              "  </svg>\n",
              "      </button>\n",
              "      \n",
              "  <style>\n",
              "    .colab-df-container {\n",
              "      display:flex;\n",
              "      flex-wrap:wrap;\n",
              "      gap: 12px;\n",
              "    }\n",
              "\n",
              "    .colab-df-convert {\n",
              "      background-color: #E8F0FE;\n",
              "      border: none;\n",
              "      border-radius: 50%;\n",
              "      cursor: pointer;\n",
              "      display: none;\n",
              "      fill: #1967D2;\n",
              "      height: 32px;\n",
              "      padding: 0 0 0 0;\n",
              "      width: 32px;\n",
              "    }\n",
              "\n",
              "    .colab-df-convert:hover {\n",
              "      background-color: #E2EBFA;\n",
              "      box-shadow: 0px 1px 2px rgba(60, 64, 67, 0.3), 0px 1px 3px 1px rgba(60, 64, 67, 0.15);\n",
              "      fill: #174EA6;\n",
              "    }\n",
              "\n",
              "    [theme=dark] .colab-df-convert {\n",
              "      background-color: #3B4455;\n",
              "      fill: #D2E3FC;\n",
              "    }\n",
              "\n",
              "    [theme=dark] .colab-df-convert:hover {\n",
              "      background-color: #434B5C;\n",
              "      box-shadow: 0px 1px 3px 1px rgba(0, 0, 0, 0.15);\n",
              "      filter: drop-shadow(0px 1px 2px rgba(0, 0, 0, 0.3));\n",
              "      fill: #FFFFFF;\n",
              "    }\n",
              "  </style>\n",
              "\n",
              "      <script>\n",
              "        const buttonEl =\n",
              "          document.querySelector('#df-dd6091e1-253c-4867-83ab-de310972263b button.colab-df-convert');\n",
              "        buttonEl.style.display =\n",
              "          google.colab.kernel.accessAllowed ? 'block' : 'none';\n",
              "\n",
              "        async function convertToInteractive(key) {\n",
              "          const element = document.querySelector('#df-dd6091e1-253c-4867-83ab-de310972263b');\n",
              "          const dataTable =\n",
              "            await google.colab.kernel.invokeFunction('convertToInteractive',\n",
              "                                                     [key], {});\n",
              "          if (!dataTable) return;\n",
              "\n",
              "          const docLinkHtml = 'Like what you see? Visit the ' +\n",
              "            '<a target=\"_blank\" href=https://colab.research.google.com/notebooks/data_table.ipynb>data table notebook</a>'\n",
              "            + ' to learn more about interactive tables.';\n",
              "          element.innerHTML = '';\n",
              "          dataTable['output_type'] = 'display_data';\n",
              "          await google.colab.output.renderOutput(dataTable, element);\n",
              "          const docLink = document.createElement('div');\n",
              "          docLink.innerHTML = docLinkHtml;\n",
              "          element.appendChild(docLink);\n",
              "        }\n",
              "      </script>\n",
              "    </div>\n",
              "  </div>\n",
              "  "
            ]
          },
          "metadata": {},
          "execution_count": 52
        }
      ]
    },
    {
      "cell_type": "code",
      "source": [
        "# bad recognition\n",
        "bad_rec = data_df.loc[\n",
        "    data_df.label.isin(preds_df.loc[preds_df.cer > 0.15, 'target']), \n",
        "    'file'\n",
        "]  # obtain files\n",
        "\n",
        "for ind_p, p in enumerate(bad_rec):\n",
        "    true_label = p.name.split(\".\")[0]\n",
        "    ind = list(preds_df.index[preds_df.target == true_label])[0]\n",
        "    pred_label = preds_df.iloc[ind][\"prediction\"]\n",
        "    print(f\"Captcha {ind_p + 1}\\nLabel: {true_label}\\nPred: {pred_label}\")\n",
        "    im = Image.open(p)\n",
        "    display(im)\n",
        "    print()"
      ],
      "metadata": {
        "colab": {
          "base_uri": "https://localhost:8080/",
          "height": 867
        },
        "id": "zvDMw98Q1ZP6",
        "outputId": "33a285ce-5de5-4408-b96d-d33efe10bb9f"
      },
      "id": "zvDMw98Q1ZP6",
      "execution_count": 79,
      "outputs": [
        {
          "output_type": "stream",
          "name": "stdout",
          "text": [
            "Captcha 1\n",
            "Label: mp7wp\n",
            "Pred: mp7wwp\n"
          ]
        },
        {
          "output_type": "display_data",
          "data": {
            "text/plain": [
              "<PIL.PngImagePlugin.PngImageFile image mode=RGBA size=200x50 at 0x7F64EDDEE8B0>"
            ],
            "image/png": "[encoded data removed]"
          },
          "metadata": {}
        },
        {
          "output_type": "stream",
          "name": "stdout",
          "text": [
            "\n",
            "Captcha 2\n",
            "Label: en4n4\n",
            "Pred: gn4n4\n"
          ]
        },
        {
          "output_type": "display_data",
          "data": {
            "text/plain": [
              "<PIL.PngImagePlugin.PngImageFile image mode=RGBA size=200x50 at 0x7F64EDDEE3D0>"
            ],
            "image/png": "[encoded data removed]"
          },
          "metadata": {}
        },
        {
          "output_type": "stream",
          "name": "stdout",
          "text": [
            "\n",
            "Captcha 3\n",
            "Label: wce5n\n",
            "Pred: wwce5n\n"
          ]
        },
        {
          "output_type": "display_data",
          "data": {
            "text/plain": [
              "<PIL.PngImagePlugin.PngImageFile image mode=RGBA size=200x50 at 0x7F6500523490>"
            ],
            "image/png": "[encoded data removed]"
          },
          "metadata": {}
        },
        {
          "output_type": "stream",
          "name": "stdout",
          "text": [
            "\n",
            "Captcha 4\n",
            "Label: p2dw7\n",
            "Pred: p2d7\n"
          ]
        },
        {
          "output_type": "display_data",
          "data": {
            "text/plain": [
              "<PIL.PngImagePlugin.PngImageFile image mode=RGBA size=200x50 at 0x7F64EDDEE820>"
            ],
            "image/png": "[encoded data removed]"
          },
          "metadata": {}
        },
        {
          "output_type": "stream",
          "name": "stdout",
          "text": [
            "\n",
            "Captcha 5\n",
            "Label: ncww7\n",
            "Pred: ncwn7\n"
          ]
        },
        {
          "output_type": "display_data",
          "data": {
            "text/plain": [
              "<PIL.PngImagePlugin.PngImageFile image mode=RGBA size=200x50 at 0x7F64EDDEEF40>"
            ],
            "image/png": "[encoded data removed]"
          },
          "metadata": {}
        },
        {
          "output_type": "stream",
          "name": "stdout",
          "text": [
            "\n",
            "Captcha 6\n",
            "Label: 65nmw\n",
            "Pred: 65nm\n"
          ]
        },
        {
          "output_type": "display_data",
          "data": {
            "text/plain": [
              "<PIL.JpegImagePlugin.JpegImageFile image mode=RGB size=200x50 at 0x7F64EDDEEFD0>"
            ],
            "image/png": "[encoded data removed]"
          },
          "metadata": {}
        },
        {
          "output_type": "stream",
          "name": "stdout",
          "text": [
            "\n",
            "Captcha 7\n",
            "Label: efe62\n",
            "Pred: gfe62\n"
          ]
        },
        {
          "output_type": "display_data",
          "data": {
            "text/plain": [
              "<PIL.PngImagePlugin.PngImageFile image mode=RGBA size=200x50 at 0x7F64EDDBC490>"
            ],
            "image/png": "[encoded data removed]"
          },
          "metadata": {}
        },
        {
          "output_type": "stream",
          "name": "stdout",
          "text": [
            "\n"
          ]
        }
      ]
    },
    {
      "cell_type": "markdown",
      "source": [
        "### Possible causes of errors:\n",
        "\n",
        "1. Some symbols are looks similar\n",
        "- for `captcha 5` blured `w` looks like `n` (left bar of `w` is blured more than the rest of the letter)\n",
        "- for `captcha 6` – `w` looks like `m` and the gap in between is small: nn groups them in one `m`-token instead of distincting two separate symbols\n",
        "\n",
        "2. Predicting blank token at the middle (by time steps) of the letter\n",
        "- `captchas 1` and `3`\n",
        "\n",
        "3. Bad _noize lines_ location near the symbol \n",
        "- for `captchas 2` and `7` `e` looks like `g` because of it\n",
        "\n",
        "4. For `captcha 4` I have not see obvious reasons for such _miss-recognition_."
      ],
      "metadata": {
        "id": "29PLMZnL6P3a"
      },
      "id": "29PLMZnL6P3a"
    },
    {
      "cell_type": "code",
      "execution_count": null,
      "id": "33aa86b7",
      "metadata": {
        "id": "33aa86b7"
      },
      "outputs": [],
      "source": []
    }
  ],
  "metadata": {
    "kernelspec": {
      "display_name": "Python 3 (ipykernel)",
      "language": "python",
      "name": "python3"
    },
    "language_info": {
      "codemirror_mode": {
        "name": "ipython",
        "version": 3
      },
      "file_extension": ".py",
      "mimetype": "text/x-python",
      "name": "python",
      "nbconvert_exporter": "python",
      "pygments_lexer": "ipython3",
      "version": "3.8.13"
    },
    "colab": {
      "provenance": []
    },
    "accelerator": "GPU",
    "gpuClass": "standard"
  },
  "nbformat": 4,
  "nbformat_minor": 5
}